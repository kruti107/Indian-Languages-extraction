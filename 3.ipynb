{
 "cells": [
  {
   "cell_type": "code",
   "execution_count": null,
   "metadata": {},
   "outputs": [],
   "source": [
    "#splitting assamese language line wise "
   ]
  },
  {
   "cell_type": "code",
   "execution_count": 1,
   "metadata": {},
   "outputs": [
    {
     "name": "stdout",
     "output_type": "stream",
     "text": [
      "Requirement already satisfied: indic-nlp-library in c:\\users\\dell\\appdata\\local\\programs\\python\\python310\\lib\\site-packages (0.92)\n",
      "Requirement already satisfied: sphinx-argparse in c:\\users\\dell\\appdata\\local\\programs\\python\\python310\\lib\\site-packages (from indic-nlp-library) (0.4.0)\n",
      "Requirement already satisfied: sphinx-rtd-theme in c:\\users\\dell\\appdata\\local\\programs\\python\\python310\\lib\\site-packages (from indic-nlp-library) (2.0.0)\n",
      "Requirement already satisfied: morfessor in c:\\users\\dell\\appdata\\local\\programs\\python\\python310\\lib\\site-packages (from indic-nlp-library) (2.0.6)\n",
      "Requirement already satisfied: pandas in c:\\users\\dell\\appdata\\local\\programs\\python\\python310\\lib\\site-packages (from indic-nlp-library) (2.1.1)\n",
      "Requirement already satisfied: numpy in c:\\users\\dell\\appdata\\local\\programs\\python\\python310\\lib\\site-packages (from indic-nlp-library) (1.23.5)\n",
      "Requirement already satisfied: python-dateutil>=2.8.2 in c:\\users\\dell\\appdata\\roaming\\python\\python310\\site-packages (from pandas->indic-nlp-library) (2.8.2)\n",
      "Requirement already satisfied: pytz>=2020.1 in c:\\users\\dell\\appdata\\local\\programs\\python\\python310\\lib\\site-packages (from pandas->indic-nlp-library) (2023.3.post1)\n",
      "Requirement already satisfied: tzdata>=2022.1 in c:\\users\\dell\\appdata\\local\\programs\\python\\python310\\lib\\site-packages (from pandas->indic-nlp-library) (2023.3)\n",
      "Requirement already satisfied: sphinx>=1.2.0 in c:\\users\\dell\\appdata\\local\\programs\\python\\python310\\lib\\site-packages (from sphinx-argparse->indic-nlp-library) (7.2.6)\n",
      "Requirement already satisfied: docutils<0.21 in c:\\users\\dell\\appdata\\roaming\\python\\python310\\site-packages (from sphinx-rtd-theme->indic-nlp-library) (0.16)\n",
      "Requirement already satisfied: sphinxcontrib-jquery<5,>=4 in c:\\users\\dell\\appdata\\local\\programs\\python\\python310\\lib\\site-packages (from sphinx-rtd-theme->indic-nlp-library) (4.1)\n",
      "Requirement already satisfied: six>=1.5 in c:\\users\\dell\\appdata\\roaming\\python\\python310\\site-packages (from python-dateutil>=2.8.2->pandas->indic-nlp-library) (1.16.0)\n",
      "Requirement already satisfied: sphinxcontrib-applehelp in c:\\users\\dell\\appdata\\local\\programs\\python\\python310\\lib\\site-packages (from sphinx>=1.2.0->sphinx-argparse->indic-nlp-library) (1.0.8)\n",
      "Requirement already satisfied: sphinxcontrib-devhelp in c:\\users\\dell\\appdata\\local\\programs\\python\\python310\\lib\\site-packages (from sphinx>=1.2.0->sphinx-argparse->indic-nlp-library) (1.0.6)\n",
      "Requirement already satisfied: sphinxcontrib-jsmath in c:\\users\\dell\\appdata\\local\\programs\\python\\python310\\lib\\site-packages (from sphinx>=1.2.0->sphinx-argparse->indic-nlp-library) (1.0.1)\n",
      "Requirement already satisfied: sphinxcontrib-htmlhelp>=2.0.0 in c:\\users\\dell\\appdata\\local\\programs\\python\\python310\\lib\\site-packages (from sphinx>=1.2.0->sphinx-argparse->indic-nlp-library) (2.0.5)\n",
      "Requirement already satisfied: sphinxcontrib-serializinghtml>=1.1.9 in c:\\users\\dell\\appdata\\local\\programs\\python\\python310\\lib\\site-packages (from sphinx>=1.2.0->sphinx-argparse->indic-nlp-library) (1.1.10)\n",
      "Requirement already satisfied: sphinxcontrib-qthelp in c:\\users\\dell\\appdata\\local\\programs\\python\\python310\\lib\\site-packages (from sphinx>=1.2.0->sphinx-argparse->indic-nlp-library) (1.0.7)\n",
      "Requirement already satisfied: Jinja2>=3.0 in c:\\users\\dell\\appdata\\local\\programs\\python\\python310\\lib\\site-packages (from sphinx>=1.2.0->sphinx-argparse->indic-nlp-library) (3.1.2)\n",
      "Requirement already satisfied: Pygments>=2.14 in c:\\users\\dell\\appdata\\roaming\\python\\python310\\site-packages (from sphinx>=1.2.0->sphinx-argparse->indic-nlp-library) (2.16.1)\n",
      "Collecting docutils<0.21 (from sphinx-rtd-theme->indic-nlp-library)\n",
      "  Using cached docutils-0.20.1-py3-none-any.whl.metadata (2.8 kB)\n",
      "Requirement already satisfied: snowballstemmer>=2.0 in c:\\users\\dell\\appdata\\local\\programs\\python\\python310\\lib\\site-packages (from sphinx>=1.2.0->sphinx-argparse->indic-nlp-library) (2.2.0)\n",
      "Requirement already satisfied: babel>=2.9 in c:\\users\\dell\\appdata\\local\\programs\\python\\python310\\lib\\site-packages (from sphinx>=1.2.0->sphinx-argparse->indic-nlp-library) (2.14.0)\n",
      "Requirement already satisfied: alabaster<0.8,>=0.7 in c:\\users\\dell\\appdata\\local\\programs\\python\\python310\\lib\\site-packages (from sphinx>=1.2.0->sphinx-argparse->indic-nlp-library) (0.7.16)\n",
      "Requirement already satisfied: imagesize>=1.3 in c:\\users\\dell\\appdata\\local\\programs\\python\\python310\\lib\\site-packages (from sphinx>=1.2.0->sphinx-argparse->indic-nlp-library) (1.4.1)\n",
      "Requirement already satisfied: requests>=2.25.0 in c:\\users\\dell\\appdata\\local\\programs\\python\\python310\\lib\\site-packages (from sphinx>=1.2.0->sphinx-argparse->indic-nlp-library) (2.31.0)\n",
      "Requirement already satisfied: packaging>=21.0 in c:\\users\\dell\\appdata\\roaming\\python\\python310\\site-packages (from sphinx>=1.2.0->sphinx-argparse->indic-nlp-library) (23.1)\n",
      "Collecting colorama>=0.4.5 (from sphinx>=1.2.0->sphinx-argparse->indic-nlp-library)\n",
      "  Using cached colorama-0.4.6-py2.py3-none-any.whl.metadata (17 kB)\n",
      "Requirement already satisfied: MarkupSafe>=2.0 in c:\\users\\dell\\appdata\\local\\programs\\python\\python310\\lib\\site-packages (from Jinja2>=3.0->sphinx>=1.2.0->sphinx-argparse->indic-nlp-library) (2.1.3)\n",
      "Requirement already satisfied: charset-normalizer<4,>=2 in c:\\users\\dell\\appdata\\local\\programs\\python\\python310\\lib\\site-packages (from requests>=2.25.0->sphinx>=1.2.0->sphinx-argparse->indic-nlp-library) (3.2.0)\n",
      "Requirement already satisfied: idna<4,>=2.5 in c:\\users\\dell\\appdata\\local\\programs\\python\\python310\\lib\\site-packages (from requests>=2.25.0->sphinx>=1.2.0->sphinx-argparse->indic-nlp-library) (2.10)\n",
      "Requirement already satisfied: urllib3<3,>=1.21.1 in c:\\users\\dell\\appdata\\local\\programs\\python\\python310\\lib\\site-packages (from requests>=2.25.0->sphinx>=1.2.0->sphinx-argparse->indic-nlp-library) (1.26.16)\n",
      "Requirement already satisfied: certifi>=2017.4.17 in c:\\users\\dell\\appdata\\local\\programs\\python\\python310\\lib\\site-packages (from requests>=2.25.0->sphinx>=1.2.0->sphinx-argparse->indic-nlp-library) (2023.7.22)\n",
      "Using cached docutils-0.20.1-py3-none-any.whl (572 kB)\n",
      "Using cached colorama-0.4.6-py2.py3-none-any.whl (25 kB)\n",
      "Installing collected packages: docutils, colorama\n",
      "  Attempting uninstall: docutils\n",
      "    Found existing installation: docutils 0.16\n",
      "    Uninstalling docutils-0.16:\n",
      "      Successfully uninstalled docutils-0.16\n",
      "  Attempting uninstall: colorama\n",
      "    Found existing installation: colorama 0.4.4\n",
      "    Uninstalling colorama-0.4.4:\n",
      "      Successfully uninstalled colorama-0.4.4\n",
      "Successfully installed colorama-0.4.6 docutils-0.20.1\n"
     ]
    },
    {
     "name": "stderr",
     "output_type": "stream",
     "text": [
      "WARNING: Retrying (Retry(total=4, connect=None, read=None, redirect=None, status=None)) after connection broken by 'NewConnectionError('<pip._vendor.urllib3.connection.HTTPSConnection object at 0x000001D32DC4AE90>: Failed to establish a new connection: [Errno 11001] getaddrinfo failed')': /simple/docutils/\n",
      "WARNING: Retrying (Retry(total=3, connect=None, read=None, redirect=None, status=None)) after connection broken by 'NewConnectionError('<pip._vendor.urllib3.connection.HTTPSConnection object at 0x000001D32DC4AE00>: Failed to establish a new connection: [Errno 11001] getaddrinfo failed')': /simple/docutils/\n",
      "WARNING: Retrying (Retry(total=2, connect=None, read=None, redirect=None, status=None)) after connection broken by 'NewConnectionError('<pip._vendor.urllib3.connection.HTTPSConnection object at 0x000001D32DC48820>: Failed to establish a new connection: [Errno 11001] getaddrinfo failed')': /simple/docutils/\n",
      "WARNING: Retrying (Retry(total=1, connect=None, read=None, redirect=None, status=None)) after connection broken by 'NewConnectionError('<pip._vendor.urllib3.connection.HTTPSConnection object at 0x000001D32DC48880>: Failed to establish a new connection: [Errno 11001] getaddrinfo failed')': /simple/docutils/\n",
      "ERROR: pip's dependency resolver does not currently take into account all the packages that are installed. This behaviour is the source of the following dependency conflicts.\n",
      "awscli 1.32.73 requires colorama<0.4.5,>=0.2.5, but you have colorama 0.4.6 which is incompatible.\n",
      "awscli 1.32.73 requires docutils<0.17,>=0.10, but you have docutils 0.20.1 which is incompatible.\n",
      "urduhack 1.1.1 requires Click~=7.1, but you have click 8.1.7 which is incompatible.\n"
     ]
    }
   ],
   "source": [
    "!pip install indic-nlp-library"
   ]
  },
  {
   "cell_type": "code",
   "execution_count": 2,
   "metadata": {},
   "outputs": [
    {
     "name": "stderr",
     "output_type": "stream",
     "text": [
      "[nltk_data] Error loading punkt: <urlopen error [Errno 11001]\n",
      "[nltk_data]     getaddrinfo failed>\n"
     ]
    },
    {
     "data": {
      "text/plain": [
       "False"
      ]
     },
     "execution_count": 2,
     "metadata": {},
     "output_type": "execute_result"
    }
   ],
   "source": [
    "import nltk\n",
    "nltk.download('punkt')"
   ]
  },
  {
   "cell_type": "code",
   "execution_count": 5,
   "metadata": {},
   "outputs": [
    {
     "name": "stdout",
     "output_type": "stream",
     "text": [
      "Preprocessed output written to: C://Users//DELL\\merged_lecture_lec10.txt\n"
     ]
    }
   ],
   "source": [
    "import os\n",
    "from indicnlp.tokenize import sentence_tokenize\n",
    "\n",
    "# Function to extract text from a text file\n",
    "def extract_text_from_text_file(text_file_path):\n",
    "    try:\n",
    "        with open(text_file_path, \"r\", encoding=\"utf-8\") as file:\n",
    "            return file.read()\n",
    "    except UnicodeDecodeError:\n",
    "        # Try reading with a different encoding if utf-8 fails\n",
    "        with open(text_file_path, \"r\", encoding=\"cp1252\") as file:\n",
    "            return file.read()\n",
    "\n",
    "# Function to preprocess text and ensure each sentence is on a separate line\n",
    "def preprocess_text(text):\n",
    "    # Remove newline characters\n",
    "    text = text.replace(\"\\n\", \" \")\n",
    "    return text\n",
    "\n",
    "# Function to write text to a text file\n",
    "def write_sentences_to_file(sentences, output_file_path):\n",
    "    with open(output_file_path, \"w\", encoding=\"utf-8\") as file:\n",
    "        for sentence in sentences:\n",
    "            file.write(sentence.strip() + '\\n')\n",
    "\n",
    "# Input and output folder paths\n",
    "input_folder = \"D://desktop//exploreCSR//codeos//hindi//merged_tex files//NPTEL-En-T-106105195\"\n",
    "output_folder = \"C://Users//DELL\"\n",
    "\n",
    "# Iterate over input text files in the input folder\n",
    "for filename in os.listdir(input_folder):\n",
    "    if filename.endswith('.txt'):\n",
    "        # Path to the input text file\n",
    "        input_text_file_path = os.path.join(input_folder, filename)\n",
    "        \n",
    "        # Extract text from the input text file\n",
    "        input_text = extract_text_from_text_file(input_text_file_path)\n",
    "        \n",
    "        # Preprocess the text\n",
    "        preprocessed_text = preprocess_text(input_text)\n",
    "        \n",
    "        # Tokenize into sentences (for Hindi language)\n",
    "        sentences = sentence_tokenize.sentence_split(preprocessed_text, lang='hi')\n",
    "        \n",
    "        # Get the output file path in the output folder with the same name as the input file\n",
    "        output_text_file_path = os.path.join(output_folder, filename)\n",
    "        \n",
    "        # Write the sentences to the output text file\n",
    "        write_sentences_to_file(sentences, output_text_file_path)\n",
    "        \n",
    "        print(\"Preprocessed output written to:\", output_text_file_path)"
   ]
  },
  {
   "cell_type": "code",
   "execution_count": null,
   "metadata": {},
   "outputs": [],
   "source": []
  },
  {
   "cell_type": "code",
   "execution_count": 6,
   "metadata": {},
   "outputs": [
    {
     "name": "stderr",
     "output_type": "stream",
     "text": [
      "[nltk_data] Downloading package punkt to\n",
      "[nltk_data]     C:\\Users\\DELL\\AppData\\Roaming\\nltk_data...\n",
      "[nltk_data]   Package punkt is already up-to-date!\n"
     ]
    },
    {
     "name": "stdout",
     "output_type": "stream",
     "text": [
      "Preprocessed output written to: C://Users//DELL\\output_text.txt\n"
     ]
    }
   ],
   "source": [
    "import os\n",
    "import nltk\n",
    "\n",
    "# Download the NLTK punkt tokenizer if not already downloaded\n",
    "nltk.download('punkt')\n",
    "\n",
    "# Function to extract text from a text file\n",
    "def extract_text_from_text_file(text_file_path):\n",
    "    try:\n",
    "        with open(text_file_path, \"r\", encoding=\"utf-8\") as file:\n",
    "            return file.read()\n",
    "    except UnicodeDecodeError:\n",
    "        # Try reading with a different encoding if utf-8 fails\n",
    "        with open(text_file_path, \"r\", encoding=\"cp1252\") as file:\n",
    "            return file.read()\n",
    "\n",
    "# Function to preprocess text and ensure each sentence is on a separate line\n",
    "def preprocess_text(text):\n",
    "    # Remove newline characters\n",
    "    text = text.replace(\"\\n\", \" \")\n",
    "    return text\n",
    "\n",
    "# Function to write text to a text file\n",
    "def write_sentences_to_file(sentences, output_file_path):\n",
    "    with open(output_file_path, \"w\", encoding=\"utf-8\") as file:\n",
    "        for sentence in sentences:\n",
    "            file.write(sentence.strip() + '\\n')\n",
    "\n",
    "# Input and output folder paths\n",
    "input_folder = \"C://Users//DELL//Documents//Text1\"\n",
    "output_folder = \"C://Users//DELL\"\n",
    "\n",
    "# Iterate over input text files in the input folder\n",
    "for filename in os.listdir(input_folder):\n",
    "    if filename.endswith('.txt'):\n",
    "        # Path to the input text file\n",
    "        input_text_file_path = os.path.join(input_folder, filename)\n",
    "        \n",
    "        # Extract text from the input text file\n",
    "        input_text = extract_text_from_text_file(input_text_file_path)\n",
    "        \n",
    "        # Preprocess the text\n",
    "        preprocessed_text = preprocess_text(input_text)\n",
    "        \n",
    "        # Tokenize into sentences\n",
    "        sentences = nltk.sent_tokenize(preprocessed_text)\n",
    "        \n",
    "        # Get the output file path in the output folder with the same name as the input file\n",
    "        output_text_file_path = os.path.join(output_folder, filename)\n",
    "        \n",
    "        # Write the sentences to the output text file\n",
    "        write_sentences_to_file(sentences, output_text_file_path)\n",
    "        \n",
    "        print(\"Preprocessed output written to:\", output_text_file_path)\n"
   ]
  }
 ],
 "metadata": {
  "kernelspec": {
   "display_name": "Python 3",
   "language": "python",
   "name": "python3"
  },
  "language_info": {
   "codemirror_mode": {
    "name": "ipython",
    "version": 3
   },
   "file_extension": ".py",
   "mimetype": "text/x-python",
   "name": "python",
   "nbconvert_exporter": "python",
   "pygments_lexer": "ipython3",
   "version": "3.10.8"
  }
 },
 "nbformat": 4,
 "nbformat_minor": 2
}
